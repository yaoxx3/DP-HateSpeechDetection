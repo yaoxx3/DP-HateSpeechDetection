{
 "cells": [
  {
   "cell_type": "markdown",
   "id": "ddea9516-bdaf-4813-ae8b-e8bcf0dda529",
   "metadata": {},
   "source": [
    "# Differentially Private Hate Speech Detection - TensorFlow Privacy"
   ]
  },
  {
   "cell_type": "markdown",
   "id": "7b3caa6e-3c13-48e9-b570-438409f6364b",
   "metadata": {},
   "source": [
    "# Data Preprocessing"
   ]
  },
  {
   "cell_type": "code",
   "execution_count": null,
   "id": "587d5617-205f-4f30-92e1-577e2fac232f",
   "metadata": {},
   "outputs": [],
   "source": [
    "import pandas as pd\n",
    "\n",
    "df = pd.read_csv('white-supremacist-forum.csv')\n",
    "print(df.head())"
   ]
  },
  {
   "cell_type": "code",
   "execution_count": null,
   "id": "517f93eb-01bc-476f-8f25-6dd3d5de33d9",
   "metadata": {},
   "outputs": [],
   "source": [
    "# filter invalid label\n",
    "correctLabels = ['noHate', 'hate']\n",
    "df = df.loc[df['label'].isin(correctLabels)]\n",
    "df['label'].value_counts()"
   ]
  },
  {
   "cell_type": "markdown",
   "id": "4e8b3c5f-e9c1-41e7-af1d-f9368aca5b6e",
   "metadata": {},
   "source": [
    "The dataset is imbalanced(normal for hate speech corpus). Tried oversampling below, not working terribly well"
   ]
  },
  {
   "cell_type": "markdown",
   "id": "3143801a-cef6-4a50-8f91-efaec2a64f52",
   "metadata": {},
   "source": [
    "## Experiment: Oversampling"
   ]
  },
  {
   "cell_type": "code",
   "execution_count": null,
   "id": "d53a1189-4cfb-4cb5-bef2-f84508355577",
   "metadata": {},
   "outputs": [],
   "source": [
    "from imblearn.over_sampling import RandomOverSampler\n",
    "ros = RandomOverSampler(random_state=0)\n",
    "train_texts_resampled, train_labels_resampled = ros.fit_resample(df['text'].to_frame(), df['label'].to_frame())"
   ]
  },
  {
   "cell_type": "code",
   "execution_count": null,
   "id": "a6e149c7-e434-4e1a-ab38-2ad14c16ee1e",
   "metadata": {},
   "outputs": [],
   "source": [
    "train_texts_resampled.info()"
   ]
  },
  {
   "cell_type": "code",
   "execution_count": null,
   "id": "26cc8ac1-c0c1-4869-b743-5ac4ce7bb6c5",
   "metadata": {},
   "outputs": [],
   "source": [
    "train_labels_resampled.value_counts()"
   ]
  },
  {
   "cell_type": "code",
   "execution_count": null,
   "id": "5740556a-80ab-4c24-b1cf-71d375fbbb75",
   "metadata": {},
   "outputs": [],
   "source": [
    "train_texts_resampled = train_texts_resampled.squeeze()\n",
    "train_labels_resampled = train_labels_resampled.squeeze()"
   ]
  },
  {
   "cell_type": "code",
   "execution_count": null,
   "id": "266ce2f3-563e-49c8-8585-4c058e24f476",
   "metadata": {},
   "outputs": [],
   "source": [
    "from sklearn.model_selection import train_test_split\n",
    "\n",
    "# Initial split to separate out the test set\n",
    "train_texts, test_texts, train_labels, test_labels = train_test_split(\n",
    "    df['text'], df['label'], test_size=0.1, random_state=42)"
   ]
  },
  {
   "cell_type": "markdown",
   "id": "cb3b5b09-c017-404e-bac5-91c4103e525f",
   "metadata": {},
   "source": [
    "# Data Preparation for ML Model"
   ]
  },
  {
   "cell_type": "code",
   "execution_count": null,
   "id": "cb03c82b-f9d2-4953-beed-332a1b09f37e",
   "metadata": {},
   "outputs": [],
   "source": [
    "from transformers import BertTokenizer\n",
    "from sklearn.model_selection import train_test_split\n",
    "\n",
    "tokenizer = BertTokenizer.from_pretrained('bert-base-uncased')\n",
    "def encode_texts(texts):\n",
    "    return tokenizer(texts, padding=True, truncation=True, max_length=38, return_tensors=\"tf\")"
   ]
  },
  {
   "cell_type": "code",
   "execution_count": null,
   "id": "86f4a34b-d50b-4ea8-abac-d11edf26bd20",
   "metadata": {},
   "outputs": [],
   "source": [
    "import numpy as np\n",
    "# Convert labels to numeric\n",
    "label_mapping = {'noHate': 0, 'hate': 1}\n",
    "train_labels = train_labels.map(label_mapping)\n",
    "test_labels = test_labels.map(label_mapping)"
   ]
  },
  {
   "cell_type": "code",
   "execution_count": null,
   "id": "77b3473b-2b45-49a4-8efc-0679c774044a",
   "metadata": {},
   "outputs": [],
   "source": [
    "train_labels"
   ]
  },
  {
   "cell_type": "code",
   "execution_count": null,
   "id": "7dc4633e-e614-4207-9029-9ffbb08503d7",
   "metadata": {},
   "outputs": [],
   "source": [
    "test_labels.value_counts()"
   ]
  },
  {
   "cell_type": "markdown",
   "id": "7504c3b6-d5fc-41c7-81a5-0855edffca2b",
   "metadata": {},
   "source": [
    "## Experiment: Undersampling"
   ]
  },
  {
   "cell_type": "code",
   "execution_count": null,
   "id": "62ee4408-d8af-41bd-adcd-b5287143868f",
   "metadata": {},
   "outputs": [],
   "source": [
    "# undersampling the dataset, noHate:hate=1:1\n",
    "from imblearn.under_sampling import RandomUnderSampler\n",
    "undersample = RandomUnderSampler(sampling_strategy=1)\n",
    "train_texts, train_labels = undersample.fit_resample(train_texts.to_frame(), train_labels.to_frame())"
   ]
  },
  {
   "cell_type": "code",
   "execution_count": null,
   "id": "4f156f90-9221-4a3d-b379-c41602008381",
   "metadata": {},
   "outputs": [],
   "source": [
    "train_texts"
   ]
  },
  {
   "cell_type": "code",
   "execution_count": null,
   "id": "31c711a2-57f1-4215-af37-26b06d24135a",
   "metadata": {},
   "outputs": [],
   "source": [
    "train_labels"
   ]
  },
  {
   "cell_type": "code",
   "execution_count": null,
   "id": "7c69e0d0-33a3-49d6-9f82-4eecd4187ca4",
   "metadata": {},
   "outputs": [],
   "source": [
    "train_texts = train_texts.squeeze()\n",
    "train_labels = train_labels.squeeze()"
   ]
  },
  {
   "cell_type": "code",
   "execution_count": null,
   "id": "f80a6f01-bb33-4dff-9b7a-229df60fe9f1",
   "metadata": {},
   "outputs": [],
   "source": [
    "train_texts"
   ]
  },
  {
   "cell_type": "code",
   "execution_count": null,
   "id": "4efd43c8-b451-49d3-abfc-bc060a372c4b",
   "metadata": {},
   "outputs": [],
   "source": [
    "train_labels"
   ]
  },
  {
   "cell_type": "code",
   "execution_count": null,
   "id": "7110b5a0-8496-4647-9936-6a0291ce3bed",
   "metadata": {},
   "outputs": [],
   "source": [
    "train_labels.value_counts()"
   ]
  },
  {
   "cell_type": "code",
   "execution_count": null,
   "id": "e7f605a8-5fe4-4e1e-9fee-415246f05a80",
   "metadata": {},
   "outputs": [],
   "source": [
    "train_texts = dict(encode_texts(train_texts.to_list()))\n",
    "test_texts = dict(encode_texts(test_texts.to_list()))\n",
    "train_texts"
   ]
  },
  {
   "cell_type": "markdown",
   "id": "36968804-8979-421d-a798-95c09b1565f9",
   "metadata": {},
   "source": [
    "# Model"
   ]
  },
  {
   "cell_type": "markdown",
   "id": "4e4f01ad-0529-4c6b-9be8-4b55d950f00a",
   "metadata": {},
   "source": [
    "Tensorflow Privacy: Set TensorFlow version to at most 2.15.0 to avoid problems with using Keras 3."
   ]
  },
  {
   "cell_type": "code",
   "execution_count": null,
   "id": "4350150f-38d4-431c-873b-b30c73abbcae",
   "metadata": {},
   "outputs": [],
   "source": [
    "import tensorflow as tf\n",
    "import numpy as np\n",
    "\n",
    "tf.get_logger().setLevel('ERROR')"
   ]
  },
  {
   "cell_type": "code",
   "execution_count": null,
   "id": "85d4acb6-ca59-4d07-adf2-0934bc209464",
   "metadata": {},
   "outputs": [],
   "source": [
    "from transformers import BertConfig, TFBertForSequenceClassification\n",
    "\n",
    "# Download model and configuration from huggingface.co and cache.\n",
    "model = TFBertForSequenceClassification.from_pretrained(\"google-bert/bert-base-uncased\", num_labels=2)"
   ]
  },
  {
   "cell_type": "code",
   "execution_count": null,
   "id": "fd591c39-86fb-4549-8564-3f1a14578f86",
   "metadata": {},
   "outputs": [],
   "source": [
    "model.summary()"
   ]
  },
  {
   "cell_type": "code",
   "execution_count": null,
   "id": "0039ae69-477a-4029-ba9d-610a5425de75",
   "metadata": {},
   "outputs": [],
   "source": [
    "model.layers"
   ]
  },
  {
   "cell_type": "code",
   "execution_count": null,
   "id": "ca645cbf-1fa6-41a1-97a6-7113c1a121d8",
   "metadata": {},
   "outputs": [],
   "source": [
    "# freeze all layers, except for the last encoder(Classifier)\n",
    "trainable_layers = [model.classifier]\n",
    "\n",
    "for layer in model.layers:\n",
    "        layer.trainable = False\n",
    "\n",
    "for layer in trainable_layers:\n",
    "    layer.trainable = True"
   ]
  },
  {
   "cell_type": "code",
   "execution_count": null,
   "id": "5fdebfe4-2cad-4cf3-99e6-6741e2ccbc7c",
   "metadata": {},
   "outputs": [],
   "source": [
    "epochs = 3\n",
    "batch_size = 2"
   ]
  },
  {
   "cell_type": "markdown",
   "id": "8273d586-30bc-4ec6-b3e5-25e1b51f54e2",
   "metadata": {},
   "source": [
    "# TensorFlow Privacy"
   ]
  },
  {
   "cell_type": "markdown",
   "id": "84421a70-18ea-48ba-af59-6ab86ef4cf53",
   "metadata": {},
   "source": [
    "## DP Model with low privacy budget (𝜀:10.8)"
   ]
  },
  {
   "cell_type": "code",
   "execution_count": null,
   "id": "8ed40b57-0169-48fc-a522-c13b6e3f71b3",
   "metadata": {},
   "outputs": [],
   "source": [
    "l2_norm_clip = 1.5\n",
    "noise_multiplier = 0.4\n",
    "num_microbatches = 2\n",
    "learning_rate = 1e-5\n",
    "\n",
    "if batch_size % num_microbatches != 0:\n",
    "  raise ValueError('Batch size should be an integer multiple of the number of microbatches')"
   ]
  },
  {
   "cell_type": "code",
   "execution_count": null,
   "id": "d9b632c6-642f-47dd-83b1-f54b8deddd1f",
   "metadata": {},
   "outputs": [],
   "source": [
    "from tensorflow_privacy import compute_dp_sgd_privacy\n",
    "# Compute privacy\n",
    "compute_dp_sgd_privacy(n=train_labels.shape[0],\n",
    "                      batch_size=batch_size,\n",
    "                      noise_multiplier=noise_multiplier,\n",
    "                      epochs=epochs,\n",
    "                      delta=1e-5)"
   ]
  },
  {
   "cell_type": "code",
   "execution_count": null,
   "id": "97d5dc3d-1fb9-43d4-b7d8-458e0ce834be",
   "metadata": {},
   "outputs": [],
   "source": [
    "import tensorflow as tf\n",
    "from tensorflow_privacy.privacy.optimizers.dp_optimizer_keras import DPKerasSGDOptimizer\n",
    "\n",
    "# Select your differentially private optimizer\n",
    "optimizer = DPKerasSGDOptimizer(\n",
    "    l2_norm_clip=l2_norm_clip,\n",
    "    noise_multiplier=noise_multiplier,\n",
    "    num_microbatches=num_microbatches,\n",
    "    learning_rate=learning_rate)\n",
    "\n",
    "# Select your loss function\n",
    "loss = tf.keras.losses.BinaryCrossentropy(reduction=tf.losses.Reduction.NONE)\n",
    "\n",
    "# Compile your model\n",
    "model.compile(optimizer=optimizer, loss=loss, metrics=['accuracy'])\n",
    "model.summary()"
   ]
  },
  {
   "cell_type": "code",
   "execution_count": null,
   "id": "db818bfa-f800-4070-8493-d3058e4158d3",
   "metadata": {},
   "outputs": [],
   "source": [
    "# Fit your model\n",
    "history = model.fit(train_texts, train_labels,\n",
    "  epochs=epochs,\n",
    "  validation_data=(test_texts, test_labels),\n",
    "  batch_size=batch_size)"
   ]
  },
  {
   "cell_type": "markdown",
   "id": "1b40d372-9e13-4fdb-83fa-72de1e8aa4ce",
   "metadata": {},
   "source": [
    "## classfication report: biased to majority class"
   ]
  },
  {
   "cell_type": "code",
   "execution_count": null,
   "id": "1dab4607-12f3-4091-aa96-65f039486754",
   "metadata": {},
   "outputs": [],
   "source": [
    "# classfication report\n",
    "outputs1 = test_pred.logits\n",
    "classifications1 = np.argmax(outputs1, axis=1)\n",
    "print(classification_report(test_labels, np.array(pred_labels)))"
   ]
  },
  {
   "cell_type": "markdown",
   "id": "0fe4464d-626b-45de-a9b9-d6326a957d48",
   "metadata": {},
   "source": [
    "## DP Model with Tighter privacy budget (𝜀:4.20)"
   ]
  },
  {
   "cell_type": "code",
   "execution_count": null,
   "id": "bc101c40-02ea-44dc-88e3-41fa029c4ce0",
   "metadata": {},
   "outputs": [],
   "source": [
    "from transformers import BertConfig, TFBertForSequenceClassification\n",
    "\n",
    "# Download model and configuration from huggingface.co and cache.\n",
    "model = TFBertForSequenceClassification.from_pretrained(\"google-bert/bert-base-uncased\", num_labels=2)"
   ]
  },
  {
   "cell_type": "code",
   "execution_count": null,
   "id": "8e42bfba-68c6-4aeb-9501-c06032e6845f",
   "metadata": {},
   "outputs": [],
   "source": [
    "# freeze all layers, except for the last encoder(Classifier)\n",
    "trainable_layers = [model.classifier]\n",
    "\n",
    "for layer in model.layers:\n",
    "        layer.trainable = False\n",
    "\n",
    "for layer in trainable_layers:\n",
    "    layer.trainable = True"
   ]
  },
  {
   "cell_type": "code",
   "execution_count": null,
   "id": "b02164b4-c909-41ae-bc68-8d9824106c20",
   "metadata": {},
   "outputs": [],
   "source": [
    "l2_norm_clip = 1\n",
    "noise_multiplier = 0.6\n",
    "num_microbatches = 32\n",
    "learning_rate = 0.25\n",
    "batch_size = 32\n",
    "epochs = 3\n",
    "\n",
    "if batch_size % num_microbatches != 0:\n",
    "  raise ValueError('Batch size should be an integer multiple of the number of microbatches')"
   ]
  },
  {
   "cell_type": "code",
   "execution_count": null,
   "id": "0ba4ad37-bf0e-461a-8a40-967896576a0d",
   "metadata": {},
   "outputs": [],
   "source": [
    "from tensorflow_privacy import compute_dp_sgd_privacy\n",
    "# Compute privacy\n",
    "compute_dp_sgd_privacy(n=train_labels.shape[0],\n",
    "                      batch_size=batch_size,\n",
    "                      noise_multiplier=noise_multiplier,\n",
    "                      epochs=epochs,\n",
    "                      delta=1e-5)"
   ]
  },
  {
   "cell_type": "code",
   "execution_count": null,
   "id": "19358c69-d5ae-4dfa-aca1-bc49fb138897",
   "metadata": {},
   "outputs": [],
   "source": [
    "import tensorflow as tf\n",
    "from tensorflow_privacy.privacy.optimizers.dp_optimizer_keras import DPKerasSGDOptimizer\n",
    "\n",
    "# Select your differentially private optimizer\n",
    "optimizer = DPKerasSGDOptimizer(\n",
    "    l2_norm_clip=l2_norm_clip,\n",
    "    noise_multiplier=noise_multiplier,\n",
    "    num_microbatches=num_microbatches,\n",
    "    learning_rate=learning_rate)\n",
    "\n",
    "# Select your loss function\n",
    "loss = tf.keras.losses.BinaryCrossentropy(reduction=tf.losses.Reduction.NONE)\n",
    "\n",
    "# Compile your model\n",
    "model.compile(optimizer=optimizer, loss=loss, metrics=['accuracy'])\n",
    "model.summary()"
   ]
  },
  {
   "cell_type": "code",
   "execution_count": null,
   "id": "cac258e9-b751-4fcf-a0a8-b28784916484",
   "metadata": {},
   "outputs": [],
   "source": [
    "# Fit your model\n",
    "model.fit(train_texts, train_labels,\n",
    "  epochs=epochs,\n",
    "  validation_data=(test_texts, test_labels),\n",
    "  batch_size=batch_size)"
   ]
  },
  {
   "cell_type": "markdown",
   "id": "fb024c1c-cbf6-440f-a3a3-ad042349ff89",
   "metadata": {},
   "source": [
    "## DP Model with Strongest privacy budget (𝜀:0.57)"
   ]
  },
  {
   "cell_type": "code",
   "execution_count": null,
   "id": "e7cdb8ae-dc55-4307-a5a9-a2dcbbe9571f",
   "metadata": {},
   "outputs": [],
   "source": [
    "from transformers import BertConfig, TFBertForSequenceClassification\n",
    "\n",
    "# Download model and configuration from huggingface.co and cache.\n",
    "model = TFBertForSequenceClassification.from_pretrained(\"google-bert/bert-base-uncased\", num_labels=2)"
   ]
  },
  {
   "cell_type": "code",
   "execution_count": null,
   "id": "5e44a357-2a3b-4225-9129-55226eb9db6e",
   "metadata": {},
   "outputs": [],
   "source": [
    "# freeze all layers, except for the last encoder(Classifier)\n",
    "trainable_layers = [model.classifier]\n",
    "\n",
    "for layer in model.layers:\n",
    "        layer.trainable = False\n",
    "\n",
    "for layer in trainable_layers:\n",
    "    layer.trainable = True"
   ]
  },
  {
   "cell_type": "code",
   "execution_count": null,
   "id": "0705c42b-4693-4d0f-af58-13052fa7156e",
   "metadata": {},
   "outputs": [],
   "source": [
    "l2_norm_clip = 1.5\n",
    "noise_multiplier = 1.3\n",
    "num_microbatches = 32\n",
    "learning_rate = 0.25\n",
    "epochs = 5\n",
    "\n",
    "if batch_size % num_microbatches != 0:\n",
    "  raise ValueError('Batch size should be an integer multiple of the number of microbatches')"
   ]
  },
  {
   "cell_type": "code",
   "execution_count": null,
   "id": "a88fef4f-7c6f-4846-b78d-e955329e5706",
   "metadata": {},
   "outputs": [],
   "source": [
    "from tensorflow_privacy import compute_dp_sgd_privacy\n",
    "# Compute privacy\n",
    "compute_dp_sgd_privacy(n=train_labels.shape[0],\n",
    "                      batch_size=batch_size,\n",
    "                      noise_multiplier=noise_multiplier,\n",
    "                      epochs=epochs,\n",
    "                      delta=1e-5)"
   ]
  },
  {
   "cell_type": "code",
   "execution_count": null,
   "id": "a56efdff-9176-4c7a-9478-be803b5a3886",
   "metadata": {},
   "outputs": [],
   "source": [
    "import tensorflow as tf\n",
    "from tensorflow_privacy.privacy.optimizers.dp_optimizer_keras import DPKerasSGDOptimizer\n",
    "\n",
    "# Select your differentially private optimizer\n",
    "optimizer = DPKerasSGDOptimizer(\n",
    "    l2_norm_clip=l2_norm_clip,\n",
    "    noise_multiplier=noise_multiplier,\n",
    "    num_microbatches=num_microbatches,\n",
    "    learning_rate=learning_rate)\n",
    "\n",
    "# Select your loss function\n",
    "loss = tf.keras.losses.BinaryCrossentropy(reduction=tf.losses.Reduction.NONE)\n",
    "\n",
    "# Compile your model\n",
    "model.compile(optimizer=optimizer, loss=loss, metrics=['accuracy'])\n",
    "model.summary()"
   ]
  },
  {
   "cell_type": "code",
   "execution_count": null,
   "id": "be50b01b-cda7-4c7e-a783-54a70e6c5a29",
   "metadata": {},
   "outputs": [],
   "source": [
    "# Fit your model\n",
    "model.fit(train_texts, train_labels,\n",
    "  epochs=epochs,\n",
    "  validation_data=(test_texts, test_labels),\n",
    "  batch_size=batch_size)"
   ]
  }
 ],
 "metadata": {
  "kernelspec": {
   "display_name": "Python 3 (ipykernel)",
   "language": "python",
   "name": "python3"
  },
  "language_info": {
   "codemirror_mode": {
    "name": "ipython",
    "version": 3
   },
   "file_extension": ".py",
   "mimetype": "text/x-python",
   "name": "python",
   "nbconvert_exporter": "python",
   "pygments_lexer": "ipython3",
   "version": "3.11.8"
  }
 },
 "nbformat": 4,
 "nbformat_minor": 5
}
